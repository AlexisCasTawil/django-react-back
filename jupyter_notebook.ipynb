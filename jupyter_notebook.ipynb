{
 "cells": [
  {
   "cell_type": "code",
   "execution_count": null,
   "metadata": {},
   "outputs": [],
   "source": []
  },
  {
   "cell_type": "code",
   "execution_count": null,
   "metadata": {},
   "outputs": [],
   "source": [
    "# API consume code example - views.py file\n",
    "\n",
    "from django.views import View\n",
    "from .models import comp  #Import DB model\n",
    "from django.http import JsonResponse\n",
    "# Create your views here.\n",
    "\n",
    "class compListView(View):\n",
    "\n",
    "  def get(self, request): #GET function to consume data\n",
    "    companylist = list(comp.objects.all().values())\n",
    "    if(len>0):\n",
    "      datos = {'message': 'Success', 'companies': companylist}\n",
    "    else:\n",
    "      datos = {'message': 'Companies not faound...'}\n",
    "    return JsonResponse(datos, safe=False)"
   ]
  }
 ],
 "metadata": {
  "kernelspec": {
   "display_name": "Python 3",
   "language": "python",
   "name": "python3"
  },
  "language_info": {
   "name": "python",
   "version": "3.11.1 (tags/v3.11.1:a7a450f, Dec  6 2022, 19:58:39) [MSC v.1934 64 bit (AMD64)]"
  },
  "orig_nbformat": 4,
  "vscode": {
   "interpreter": {
    "hash": "79cbd6ceefaa91965faa890acee568ce751aec7753b0d4c9e06f1c4860d23eba"
   }
  }
 },
 "nbformat": 4,
 "nbformat_minor": 2
}
